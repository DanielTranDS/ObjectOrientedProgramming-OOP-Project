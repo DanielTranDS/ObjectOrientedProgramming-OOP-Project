{
 "cells": [
  {
   "cell_type": "markdown",
   "metadata": {},
   "source": [
    "# Pandemic Simulation with Object-Oriented Programming\n",
    "\n",
    "In this project, with only very basic Python libraries like math, random, matplotlib, I will try to create a simple Simulation of how a Pandemic Spread, with some specified rules that are closely resembled those in reality. At the end, I visualize the results obtained from the simulation, based on different input scenarios, to highlight some key insights regarding social distancing and patient zero health. This project heavily makes use of Object Oriented Programming to create the classes needed to run the simulation.\n",
    "\n",
    "## Introduction and Backgrounds\n",
    "\n",
    "Viral Epidemics like the 1918 influenza pandemic, or more recently Covid19 pandemic, got out of hand. I would like to simulate the way such diseases spread, in order to better understand how this happens. \n",
    "\n",
    "In this project, there are 3 main tasks. Firstly, I will create the necessary data structure (classes) to simulate social links from the data file \"Network data.txt\" and disease transmission between people. Then, I will simulate infections among the population over a period of time. Lastly, I plot graphs to determine whether an outbreak is contained or not, based on different input scenarios.\n",
    "\n",
    "The data file used for this project is \"Network data.txt\", which contains 200 unique records. Each record is on its own line in the file, consisting of a person's name, together with the names of that person's friends, whom they are in regular contact with. Each person has at least 1 friend, and each of the person's friends has also named that person as a friend.\n",
    "\n",
    "\n",
    "Rules for how the virus spreads:\n",
    "    - Each person has a number of health points that changes over time depending on a person's health. The number of health points is used to check if a patient is contagious or not:\n",
    "        - 50-100: Not contagious\n",
    "        - 30-49: Contagious\n",
    "        - 0-29: Poor health, contagious\n",
    "    - After each day, due to sleeping well, each person's immune system will naturally add 5 health points, up to a maximum possible health of 100. The minimum possible health is 0.\n",
    "    - A person's current health should be rounded to the nearest integer.\n",
    "    - Each day, a person may or may not visit their friend. A meeting probability parameter will be applied to all people depends on social distancing regulations.\n",
    "    - The virus spreads when a contagious person passes a viral load to a person they are visiting, or a person who has visited them. A person can be affected by a viral load even if they are already partly sick. The viral load follows this formula:\n",
    "$$ViralLoad=5+\\frac{(HealthPoint-25)^2}{62}$$\n",
    "    - When a contagious person produces a viral load, every person they meet when visiting (or being visited) will be affected by their viral load. Formula for effect of infection is as followed, where HPa is the new value of a person's health points after receiving the viral load, and HPb is the current health points before receiving the viral load:\n",
    "$$\n",
    "    HP_a= \n",
    "\\begin{cases}\n",
    "    HP_b-(0.1*ViralLoad),& \\text{if } HP_b\\leq 29\\\\\n",
    "    HP_b-(1.0*ViralLoad),& \\text{if } 29 \\leq HP_b < 50 \\\\\n",
    "    HP_b-(2.0*ViralLoad),& \\text{if } 50\\leq HP_b\n",
    "\\end{cases}\n",
    "$$\n",
    "          \n",
    "\n",
    "## Table of Content\n",
    "\n",
    "1. [Representing Social Connections](#1)\n",
    "2. [Simulate Disease Spread](#2)\n",
    "3. [Plot graph to visualize the simulation](#3)"
   ]
  },
  {
   "cell_type": "markdown",
   "metadata": {},
   "source": [
    "### 1. Representing Social Connections <a class=\"anchor\" id=\"1\"></a>\n",
    "\n",
    "In this section, we represent social connections through Person object. "
   ]
  },
  {
   "cell_type": "code",
   "execution_count": 26,
   "metadata": {},
   "outputs": [],
   "source": [
    "#Define a class named Person to represent the records\n",
    "class Person:\n",
    "\n",
    "    #constructor method to create a new Person object\n",
    "    def __init__(self, first_name, last_name):\n",
    "        self.first_name=first_name\n",
    "        self.last_name=last_name\n",
    "        self.friendlist = []\n",
    "\n",
    "    #add a new social connection to be stored in this Person object\n",
    "    def add_friend(self, friend_person):\n",
    "        self.friendlist.append(friend_person)       #friend_person is a reference to another Person object\n",
    "\n",
    "    #return a string containing the person's first and last name concatenated together\n",
    "    def get_name(self):\n",
    "        self.get_name=self.first_name +' '+ self.last_name\n",
    "        return self.get_name\n",
    "\n",
    "    #return a list of Person objects for the social connection that have been added\n",
    "    def get_friends(self):\n",
    "        return self.friendlist"
   ]
  },
  {
   "cell_type": "markdown",
   "metadata": {},
   "source": [
    "### 2. Simulate Disease Spread <a class=\"anchor\" id=\"2\"></a>\n",
    "\n",
    "In this section, based on prior specifications of how a disease spreads, we create Patient class to simulate the disease spread"
   ]
  },
  {
   "cell_type": "code",
   "execution_count": 27,
   "metadata": {},
   "outputs": [],
   "source": [
    "import math, random"
   ]
  },
  {
   "cell_type": "code",
   "execution_count": 28,
   "metadata": {},
   "outputs": [],
   "source": [
    "#Create Patient class which inherits from Person class earlier\n",
    "class Patient(Person):\n",
    "    #Inherit from Person class created earlier\n",
    "    def __init__(self,first_name,last_name,initial_health):\n",
    "        super().__init__(first_name,last_name)\n",
    "        self.initial_health=initial_health\n",
    "        self.current_health=self.initial_health\n",
    "        self.friendlist=[]\n",
    "        \n",
    "    #Get name of the Patient\n",
    "    def get_name(self):\n",
    "        self.get_name=super(Patient,self).get_name()\n",
    "        return self.get_name\n",
    "    \n",
    "    #Add friend method\n",
    "    def add_friend(self,friend_patient):\n",
    "        super(Patient,self).add_friend(friend_patient)\n",
    "        \n",
    "    #Get the friend list    \n",
    "    def get_friends(self):\n",
    "        return super(Patient,self).get_friends()\n",
    "    \n",
    "    #Get the health points, which must be rounded to nearest integer\n",
    "    def get_health(self):\n",
    "        if self.current_health - int(self.current_health)<0.5:\n",
    "            self.current_health=math.floor(self.current_health)\n",
    "            return self.current_health\n",
    "        else:\n",
    "            self.current_health=math.ceil(self.current_health)\n",
    "            return self.current_health\n",
    "    \n",
    "    #Set to new health\n",
    "    def set_health(self,new_health):\n",
    "        self.current_health=new_health\n",
    "    \n",
    "    #A method to check if a Patient is contagious\n",
    "    def is_contagious(self):\n",
    "        if self.current_health<=49 and self.current_health>=0:\n",
    "            return True\n",
    "        elif self.current_health>=50 and self.current_health<=100:\n",
    "            return False\n",
    "        \n",
    "    #A method to define the infection process    \n",
    "    def infect(self,viral_load):\n",
    "        if self.current_health<=29:\n",
    "            if self.current_health-(0.1*viral_load)>0:\n",
    "                self.current_health-=(0.1*viral_load)\n",
    "            else:\n",
    "                self.current_health=0 #a Patient health cannot go below 0\n",
    "        elif self.current_health >29 and self.current_health<50:\n",
    "            if self.current_health-(1.0 *viral_load)>0:\n",
    "                self.current_health-=(1.0*viral_load)\n",
    "            else:\n",
    "                self.current_health=0\n",
    "        elif self.current_health>=50:\n",
    "            if self.current_health-(2.0*viral_load)>0:\n",
    "                self.current_health-=(2.0*viral_load)\n",
    "            else:\n",
    "                self.current_health=0\n",
    "    \n",
    "    #Sleep method to add to health points\n",
    "    def sleep(self):\n",
    "        if self.current_health + 5 <100:\n",
    "            self.current_health+=5\n",
    "            \n",
    "        else:\n",
    "            self.current_health=100 #a Patient health cannot go above 100"
   ]
  },
  {
   "cell_type": "code",
   "execution_count": 29,
   "metadata": {},
   "outputs": [],
   "source": [
    "#Create load_patients function\n",
    "def load_patients(data,default_health):\n",
    "    read_data = open(data, \"r\")\n",
    "    all_patient_object_list = []            #list of all Patient object that have been created from the file records\n",
    "    all_patient_name_list = []              #name list of all the above Patient objects\n",
    "    for aline in read_data:\n",
    "        for char in aline:\n",
    "            if char == ':' or char == \",\":\n",
    "                aline = aline.replace(char, '')\n",
    "        edited_line = aline.split()\n",
    "\n",
    "\n",
    "        #The patient object has not been created\n",
    "        if Patient(edited_line[0], edited_line[1], default_health).get_name() not in all_patient_name_list:\n",
    "            a_patient = Patient(edited_line[0], edited_line[1], default_health)\n",
    "            all_patient_object_list.append(a_patient)\n",
    "            all_patient_name_list.append(a_patient.get_name())\n",
    "\n",
    "            # From third element until the end of a line is the names of the friends of that particular patient of interest\n",
    "            patient_friendlist = edited_line[2:]\n",
    "            while patient_friendlist != []:\n",
    "\n",
    "                # A sub-case of the friend patient object has not been created\n",
    "                if Patient(patient_friendlist[0], patient_friendlist[1],\n",
    "                           default_health).get_name() not in all_patient_name_list:\n",
    "                    a_patient_friend = Patient(patient_friendlist[0], patient_friendlist[1], default_health)\n",
    "                    a_patient.add_friend(a_patient_friend)\n",
    "                    all_patient_object_list.append(a_patient_friend)\n",
    "                    all_patient_name_list.append(a_patient_friend.get_name())\n",
    "\n",
    "                # The other sub-case where the friend patient object has already been created elsewhere\n",
    "                else:\n",
    "                    for friend_patient in all_patient_object_list:\n",
    "                        if Patient.get_name(friend_patient) == Patient(patient_friendlist[0], patient_friendlist[1],\n",
    "                                                                       default_health).get_name():\n",
    "                            existed_friend_patient = friend_patient\n",
    "                            a_patient.add_friend(existed_friend_patient)\n",
    "                del patient_friendlist[0:2]\n",
    "\n",
    "        # The patient object has been created elsewhere\n",
    "        else:\n",
    "            existed_patient_friendlist = edited_line[2:]\n",
    "            while existed_patient_friendlist != []:\n",
    "\n",
    "                # A sub-case of the friend patient object has not been created\n",
    "                if Patient(existed_patient_friendlist[0], existed_patient_friendlist[1],\n",
    "                           default_health).get_name() not in all_patient_name_list:\n",
    "                    a_patient_friend = Patient(existed_patient_friendlist[0], existed_patient_friendlist[1],\n",
    "                                               default_health)\n",
    "                    for particular_patient in all_patient_object_list:\n",
    "                        if Patient.get_name(particular_patient) == Patient(edited_line[0], edited_line[1],\n",
    "                                                                           default_health).get_name():\n",
    "                            existed_patient = particular_patient\n",
    "                            existed_patient.add_friend(a_patient_friend)\n",
    "                    all_patient_object_list.append(a_patient_friend)\n",
    "                    all_patient_name_list.append(a_patient_friend.get_name())\n",
    "\n",
    "                # The other sub-case where the friend patient object has already been created elsewhere\n",
    "                else:\n",
    "                    for friend_patient in all_patient_object_list:\n",
    "                        if Patient.get_name(friend_patient) == Patient(existed_patient_friendlist[0],\n",
    "                                                                       existed_patient_friendlist[1],\n",
    "                                                                       default_health).get_name():\n",
    "                            existed_friend_patient = friend_patient\n",
    "                            for particular_patient in all_patient_object_list:\n",
    "                                if Patient.get_name(particular_patient) == Patient(edited_line[0], edited_line[1],\n",
    "                                                                                   default_health).get_name():\n",
    "                                    existed_patient = particular_patient\n",
    "                                    existed_patient.add_friend(existed_friend_patient)\n",
    "                del existed_patient_friendlist[0:2]\n",
    "\n",
    "    read_data.close()\n",
    "    return all_patient_object_list"
   ]
  },
  {
   "cell_type": "code",
   "execution_count": 30,
   "metadata": {},
   "outputs": [],
   "source": [
    "#Create run_simulation function\n",
    "def run_simulation(data, days, meeting_probability, patient_zero_health):\n",
    "    all_patient_object_list = load_patients(data, 75)\n",
    "    all_patient_object_list[0].set_health(patient_zero_health)      #set health of patient zero\n",
    "    contagious_patient_list = []\n",
    "    contagious_name_list = []\n",
    "    daily_contagious_no_list = []       #The list with daily number of contagious cases through the duration of the simulation\n",
    "    while days > 0:\n",
    "        for patient in all_patient_object_list:\n",
    "            random_outcome = random.random()  #Randomize the meeting probability among friends\n",
    "            if random_outcome <= meeting_probability:   #If the patient visit his friends\n",
    "\n",
    "                #In the case the visit occurs, there are 2 big cases, with 2 sub cases for each.\n",
    "                #The first case is where the patient who visits his friend is contagious, with 2 sub cases of the visited friend\n",
    "                #becomes contagious upon receiving the viral load from the contagious patient, or the visited friend\n",
    "                #is still not contagious upon receiving the viral load from the contagious patient.\n",
    "\n",
    "                #The second case is where the patient who visits his friend is not contagious, with 2 sub cases of\n",
    "                #the visited friend happens to be contagious and pass a viral load to the non contagious patient,\n",
    "                #or the visited friend is not contagious\n",
    "\n",
    "                #The case where the visting patient is contagious\n",
    "                if patient.is_contagious():\n",
    "\n",
    "                    #if the contagious patient is not yet in the contagious list, add him\n",
    "                    if Patient.get_name(patient) not in contagious_name_list:\n",
    "                        contagious_patient_list.append(patient)\n",
    "                        contagious_name_list.append(Patient.get_name(patient))\n",
    "\n",
    "                    #Since the patient is contagious, the patient will produce the viral load according to the given formula\n",
    "                    Lv = 5 + (((patient.get_health() - 25) ** 2) / 62)\n",
    "\n",
    "                    for patient_friend in patient.get_friends():\n",
    "                        patient_friend.infect(Lv)       #infect his friends with the viral load\n",
    "\n",
    "                        #the sub case where after receiving the viral load, the friend is contagious. \n",
    "                        #Then if the contagious friend is not contagious list, add him\n",
    "                        if patient_friend.is_contagious():\n",
    "\n",
    "                            if Patient.get_name(patient_friend) not in contagious_name_list:\n",
    "                                contagious_patient_list.append(patient_friend)\n",
    "                                contagious_name_list.append(Patient.get_name(patient_friend))\n",
    "\n",
    "                            friend_lv=5 + (((patient_friend.get_health() - 25) ** 2) / 62)      \n",
    "                            #since the patient friend is contagious now, the friend also produces a viral load and \n",
    "                            #spreads it to the patient\n",
    "                            \n",
    "                            patient.infect(friend_lv)\n",
    "\n",
    "                        #the sub case where after receiving the viral load, the friend is still not contagious.\n",
    "                        #Then if he is in contagious list, remove him\n",
    "                        elif not patient_friend.is_contagious():\n",
    "                            if Patient.get_name(patient_friend) in contagious_name_list:\n",
    "                                contagious_patient_list.remove(patient_friend)\n",
    "                                contagious_name_list.remove(Patient.get_name(patient_friend))\n",
    "\n",
    "                #the case where the patient visiting his friends is not contagious, \n",
    "                #so no viral load is produced from the non contagious patient\n",
    "                elif not patient.is_contagious():\n",
    "\n",
    "                    for patient_friend in patient.get_friends():\n",
    "\n",
    "                        #the sub case where the visited friend is contagious and pass a viral load to the \n",
    "                        #non contagious patient\n",
    "                        if patient_friend.is_contagious():\n",
    "                            if Patient.get_name(patient_friend) not in contagious_name_list:\n",
    "                                contagious_patient_list.append(patient_friend)\n",
    "                                contagious_name_list.append(Patient.get_name(patient_friend))\n",
    "\n",
    "                            friend_lv=5 + (((patient_friend.get_health() - 25) ** 2) / 62)\n",
    "                            \n",
    "                            #the visited friend pass the viral load to the non contagious patient\n",
    "                            patient.infect(friend_lv)       \n",
    "                           \n",
    "\n",
    "                            #check if after receiving the viral load from the visited friend, the non contagious patient \n",
    "                            #becomes contagious or not. If he does, add him to contagious list if he is not already in and \n",
    "                            #he now produces a viral load and spreads to the friend.If he does not, \n",
    "                            #remove him from contagious list if he is already in.\n",
    "                            if patient.is_contagious():\n",
    "                                if Patient.get_name(patient) not in contagious_name_list:\n",
    "                                    contagious_patient_list.append(patient)\n",
    "                                    contagious_name_list.append(Patient.get_name(patient))\n",
    "                                patient_lv=5 + (((patient.get_health() - 25) ** 2) / 62)\n",
    "                                patient_friend.infect(patient_lv)\n",
    "\n",
    "                            elif not patient.is_contagious():\n",
    "                                if Patient.get_name(patient) in contagious_name_list:\n",
    "                                    contagious_patient_list.remove(patient)\n",
    "                                    contagious_name_list.remove(Patient.get_name(patient))\n",
    "\n",
    "                        #the sub case where the visited friend is not contagious\n",
    "                        elif not patient_friend.is_contagious():\n",
    "\n",
    "                            #since both patient and the visited friend is not contagious, \n",
    "                            #remove them from contagious list if they are in\n",
    "                            if Patient.get_name(patient) in contagious_name_list:\n",
    "                                contagious_patient_list.remove(patient)\n",
    "                                contagious_name_list.remove(Patient.get_name(patient))\n",
    "\n",
    "                            if Patient.get_name(patient_friend) in contagious_name_list:\n",
    "                                contagious_patient_list.remove(patient_friend)\n",
    "                                contagious_name_list.remove(Patient.get_name(patient_friend))\n",
    "\n",
    "            else:       #if the patient does not visit his friend\n",
    "\n",
    "                #if the patient is contagious and he is not yet in contagious list, add him\n",
    "                if patient.is_contagious():\n",
    "                    if Patient.get_name(patient) not in contagious_name_list:\n",
    "                        contagious_patient_list.append(patient)\n",
    "                        contagious_name_list.append(Patient.get_name(patient))\n",
    "\n",
    "                #if the patient is not contagious and he is in the contagious list, remove him\n",
    "                elif not patient.is_contagious():\n",
    "                    if Patient.get_name(patient) in contagious_name_list:\n",
    "                        contagious_patient_list.remove(patient)\n",
    "                        contagious_name_list.remove(Patient.get_name(patient))\n",
    "\n",
    "        #let the patient sleep to recover some health at the end of the day\n",
    "        for patient in all_patient_object_list:\n",
    "            patient.sleep()\n",
    "        #print(contagious_name_list)         #check to see the name of contagious patient for that day\n",
    "        #print(len(contagious_patient_list))     #check to see the number of contagious patient that day\n",
    "        daily_contagious_no_list.append(len(contagious_patient_list))\n",
    "        days -= 1\n",
    "\n",
    "    #return the list with daily number of contagious cases through the duration of the simulation    \n",
    "    return (daily_contagious_no_list)       "
   ]
  },
  {
   "cell_type": "markdown",
   "metadata": {},
   "source": [
    "Try out some test cases, to see how the epidemic spreads in different situations."
   ]
  },
  {
   "cell_type": "code",
   "execution_count": 31,
   "metadata": {},
   "outputs": [
    {
     "name": "stdout",
     "output_type": "stream",
     "text": [
      "[16, 40, 75, 112, 139, 159, 175, 190, 195, 197, 197, 199, 200, 200, 200]\n"
     ]
    }
   ],
   "source": [
    "#15 days of spread, probability of 0.8 that friends will meet, patient zero health is 49\n",
    "testcase_1=run_simulation('Network data.txt',15,0.8,49)\n",
    "print(testcase_1)"
   ]
  },
  {
   "cell_type": "markdown",
   "metadata": {},
   "source": [
    "Due to high meeting probability, social distancing measures are limted, the epidemic spreads quickly. After 15 days, the whole community of 200 people are infected."
   ]
  },
  {
   "cell_type": "code",
   "execution_count": 32,
   "metadata": {},
   "outputs": [
    {
     "name": "stdout",
     "output_type": "stream",
     "text": [
      "[17, 69, 129, 174, 187, 199, 200, 200, 200, 200, 200, 200, 200, 200, 200, 200, 200, 200, 200, 200, 200, 200, 200, 200, 200, 200, 200, 200, 200, 200, 200, 200, 200, 200, 200, 200, 200, 200, 200, 200]\n"
     ]
    }
   ],
   "source": [
    "#40 days of spread, friends will surely meet, patient zero health is 1\n",
    "testcase_2=run_simulation('Network data.txt',40,1,1)\n",
    "print(testcase_2)"
   ]
  },
  {
   "cell_type": "markdown",
   "metadata": {},
   "source": [
    "There are no social distancing measures in placed, so the virus spreads quickly, infected the whole community of 200 people in only about 6 days."
   ]
  },
  {
   "cell_type": "markdown",
   "metadata": {},
   "source": [
    "### 3. Plot graph to visualize the simulation <a class=\"anchor\" id=\"3\"></a>\n",
    "\n",
    "In this section, we plot some graphs to better visualize the simulation and extract some key insights"
   ]
  },
  {
   "cell_type": "code",
   "execution_count": 33,
   "metadata": {},
   "outputs": [],
   "source": [
    "from matplotlib import pyplot as plt\n",
    "def visual_curve(data,days,meeting_probability,patient_zero_health):\n",
    "    daily_contagious_no_list=run_simulation(data,days,meeting_probability,patient_zero_health)\n",
    "    x=list(range(days))\n",
    "    plt.plot(x,daily_contagious_no_list)\n",
    "    plt.xlabel('Days')\n",
    "    plt.ylabel('Count')\n",
    "    plt.title('Simulation Curve')\n",
    "    plt.show()"
   ]
  },
  {
   "cell_type": "markdown",
   "metadata": {},
   "source": [
    "**Scenario A (An uncontained outbreak)**: There are many social gatherings, and ‘patient zero’ is quite unwell at the beginning of\n",
    "the simulation. The situation might get out of control very quickly. \n",
    "\n",
    "Number of days: 30\n",
    "\n",
    "Meeting probability: 0.6\n",
    "\n",
    "Patient zero health: 25 health points"
   ]
  },
  {
   "cell_type": "code",
   "execution_count": 34,
   "metadata": {},
   "outputs": [
    {
     "data": {
      "image/png": "[encoded data removed]",
      "text/plain": [
       "<Figure size 432x288 with 1 Axes>"
      ]
     },
     "metadata": {
      "needs_background": "light"
     },
     "output_type": "display_data"
    }
   ],
   "source": [
    "days_A=30\n",
    "prob_A=0.6\n",
    "health_A=25\n",
    "visual_curve('Network data.txt',days_A,prob_A,health_A)"
   ]
  },
  {
   "cell_type": "markdown",
   "metadata": {},
   "source": [
    "**Scenario B (An unpredictable situation)**: There are minimal social distancing restrictions implemented (to discourage people from meeting), and ‘patient zero’ only has very mild symptoms but is maximally contagious. In this scenario the situation\n",
    "could be very unpredictable and depend on pure luck. we might get different results each time the\n",
    "simulation runs based on random probability. Sometimes patient zero may not spread the disease at all before\n",
    "recovering and there is no outbreak. In unlucky cases, the virus may begin to spread. \n",
    "\n",
    "Number of days: 60\n",
    "\n",
    "Meeting probability: 0.25\n",
    "\n",
    "Patient zero health: 49 health points"
   ]
  },
  {
   "cell_type": "code",
   "execution_count": 35,
   "metadata": {},
   "outputs": [
    {
     "data": {
      "image/png": "[encoded data removed]",
      "text/plain": [
       "<Figure size 432x288 with 1 Axes>"
      ]
     },
     "metadata": {
      "needs_background": "light"
     },
     "output_type": "display_data"
    }
   ],
   "source": [
    "#Lucky case\n",
    "days_B=60\n",
    "prob_B=0.25\n",
    "health_B=49\n",
    "visual_curve('Network data.txt',days_B,prob_B,health_B)"
   ]
  },
  {
   "cell_type": "code",
   "execution_count": 36,
   "metadata": {},
   "outputs": [
    {
     "data": {
      "image/png": "[encoded data removed]",
      "text/plain": [
       "<Figure size 432x288 with 1 Axes>"
      ]
     },
     "metadata": {
      "needs_background": "light"
     },
     "output_type": "display_data"
    }
   ],
   "source": [
    "#Unlucky case\n",
    "days_B=60\n",
    "prob_B=0.25\n",
    "health_B=49\n",
    "visual_curve('Network data.txt',days_B,prob_B,health_B)"
   ]
  },
  {
   "cell_type": "markdown",
   "metadata": {},
   "source": [
    "**Scenario B (Flattening the curve)**: Social distancing restrictions on meetings could mean that while there is the chance for\n",
    "an outbreak, it is more likely that the disease will die out quickly, case numbers will flatten out, or only grow slowly.\n",
    "\n",
    "Number of days: 90\n",
    "\n",
    "Meeting probability: 0.18\n",
    "\n",
    "Patient zero health: 40 health points"
   ]
  },
  {
   "cell_type": "code",
   "execution_count": 37,
   "metadata": {},
   "outputs": [
    {
     "data": {
      "image/png": "[encoded data removed]",
      "text/plain": [
       "<Figure size 432x288 with 1 Axes>"
      ]
     },
     "metadata": {
      "needs_background": "light"
     },
     "output_type": "display_data"
    }
   ],
   "source": [
    "days_C=90\n",
    "prob_C=0.18\n",
    "health_C=40\n",
    "visual_curve('Network data.txt',days_C,prob_C,health_C)"
   ]
  },
  {
   "cell_type": "code",
   "execution_count": null,
   "metadata": {},
   "outputs": [],
   "source": []
  }
 ],
 "metadata": {
  "kernelspec": {
   "display_name": "Python 3",
   "language": "python",
   "name": "python3"
  },
  "language_info": {
   "codemirror_mode": {
    "name": "ipython",
    "version": 3
   },
   "file_extension": ".py",
   "mimetype": "text/x-python",
   "name": "python",
   "nbconvert_exporter": "python",
   "pygments_lexer": "ipython3",
   "version": "3.7.6"
  }
 },
 "nbformat": 4,
 "nbformat_minor": 4
}
