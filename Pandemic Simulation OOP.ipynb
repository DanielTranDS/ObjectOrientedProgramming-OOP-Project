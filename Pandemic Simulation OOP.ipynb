{
 "cells": [
  {
   "cell_type": "markdown",
   "metadata": {},
   "source": [
    "# Pandemic Simulation with Object-Oriented Programming\n",
    "\n",
    "## Table of Content\n",
    "\n",
    "1. [Representing Social Connections](#1)\n",
    "2. [Simulate Disease Spread](#2)\n",
    "3. [Plot graph to visualize the simulation](#3)"
   ]
  },
  {
   "cell_type": "markdown",
   "metadata": {},
   "source": [
    "### 1. Representing Social Connections <a class=\"anchor\" id=\"1\"></a>"
   ]
  },
  {
   "cell_type": "code",
   "execution_count": 1,
   "metadata": {},
   "outputs": [],
   "source": [
    "#Define a class named Person to represent the records\n",
    "class Person:\n",
    "\n",
    "    #constructor method to create a new Person object\n",
    "    def __init__(self, first_name, last_name):\n",
    "        self.first_name=first_name\n",
    "        self.last_name=last_name\n",
    "        self.friendlist = []\n",
    "\n",
    "    #add a new social connection to be stored in this Person object\n",
    "    def add_friend(self, friend_person):\n",
    "        self.friendlist.append(friend_person)       #friend_person is a reference to another Person object\n",
    "\n",
    "    #return a string containing the person's first and last name concatenated together\n",
    "    def get_name(self):\n",
    "        self.get_name=self.first_name +' '+ self.last_name\n",
    "        return self.get_name\n",
    "\n",
    "    #return a list of Person objects for the social connection that have been added\n",
    "    def get_friends(self):\n",
    "        return self.friendlist"
   ]
  },
  {
   "cell_type": "code",
   "execution_count": null,
   "metadata": {},
   "outputs": [],
   "source": []
  },
  {
   "cell_type": "markdown",
   "metadata": {},
   "source": [
    "### 2. Simulate Disease Spread <a class=\"anchor\" id=\"2\"></a>"
   ]
  },
  {
   "cell_type": "code",
   "execution_count": null,
   "metadata": {},
   "outputs": [],
   "source": []
  },
  {
   "cell_type": "code",
   "execution_count": null,
   "metadata": {},
   "outputs": [],
   "source": []
  },
  {
   "cell_type": "code",
   "execution_count": null,
   "metadata": {},
   "outputs": [],
   "source": []
  },
  {
   "cell_type": "markdown",
   "metadata": {},
   "source": [
    "### 3. Plot graph to visualize the simulation <a class=\"anchor\" id=\"3\"></a>"
   ]
  },
  {
   "cell_type": "code",
   "execution_count": null,
   "metadata": {},
   "outputs": [],
   "source": []
  },
  {
   "cell_type": "code",
   "execution_count": null,
   "metadata": {},
   "outputs": [],
   "source": []
  },
  {
   "cell_type": "code",
   "execution_count": null,
   "metadata": {},
   "outputs": [],
   "source": []
  }
 ],
 "metadata": {
  "kernelspec": {
   "display_name": "Python 3",
   "language": "python",
   "name": "python3"
  },
  "language_info": {
   "codemirror_mode": {
    "name": "ipython",
    "version": 3
   },
   "file_extension": ".py",
   "mimetype": "text/x-python",
   "name": "python",
   "nbconvert_exporter": "python",
   "pygments_lexer": "ipython3",
   "version": "3.7.6"
  }
 },
 "nbformat": 4,
 "nbformat_minor": 4
}
